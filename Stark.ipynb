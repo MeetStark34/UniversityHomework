{
  "nbformat": 4,
  "nbformat_minor": 0,
  "metadata": {
    "colab": {
      "provenance": [],
      "collapsed_sections": [
        "OnIhyfnaC4tn"
      ],
      "toc_visible": true,
      "authorship_tag": "ABX9TyNJq7TI/dCyYOkt7cwRYstC",
      "include_colab_link": true
    },
    "kernelspec": {
      "name": "python3",
      "display_name": "Python 3"
    },
    "language_info": {
      "name": "python"
    }
  },
  "cells": [
    {
      "cell_type": "markdown",
      "metadata": {
        "id": "view-in-github",
        "colab_type": "text"
      },
      "source": [
        "<a href=\"https://colab.research.google.com/github/MeetStark34/MeetStark34/blob/main/Stark.ipynb\" target=\"_parent\"><img src=\"https://colab.research.google.com/assets/colab-badge.svg\" alt=\"Open In Colab\"/></a>"
      ]
    },
    {
      "cell_type": "markdown",
      "source": [
        "# CLASSWORK I"
      ],
      "metadata": {
        "id": "OnIhyfnaC4tn"
      }
    },
    {
      "cell_type": "code",
      "source": [
        "import sqlite3\n",
        "import pandas as pd\n",
        "# Connect to SQLite (in-memory database for simplicity)\n",
        "## Connecting to an SQLite in-memory database means creating a temporary database\n",
        "## that resides in RAM rather than on disk. It’s commonly used for testing\n",
        "\n",
        "conn = sqlite3.connect(':memory:')\n",
        "cursor = conn.cursor()"
      ],
      "metadata": {
        "id": "BaSxBvTxC-Z5"
      },
      "execution_count": null,
      "outputs": []
    },
    {
      "cell_type": "code",
      "source": [
        "# Create tables\n",
        "cursor.execute('''\n",
        "CREATE TABLE students (\n",
        "    id INTEGER PRIMARY KEY,\n",
        "    name TEXT\n",
        ")\n",
        "''')\n",
        "\n",
        "cursor.execute('''\n",
        "CREATE TABLE science_students (\n",
        "    id INTEGER PRIMARY KEY,\n",
        "    name TEXT\n",
        ")\n",
        "''')"
      ],
      "metadata": {
        "colab": {
          "base_uri": "https://localhost:8080/"
        },
        "id": "zP-i5XrwDBud",
        "outputId": "c319250a-6b10-4695-e9db-3d4af03032de"
      },
      "execution_count": null,
      "outputs": [
        {
          "output_type": "execute_result",
          "data": {
            "text/plain": [
              "<sqlite3.Cursor at 0x7c7386955e40>"
            ]
          },
          "metadata": {},
          "execution_count": 28
        }
      ]
    },
    {
      "cell_type": "code",
      "source": [
        "# Insert sample data\n",
        "students_data = [\n",
        "    (1, 'Alice'),\n",
        "    (2, 'Bob'),\n",
        "    (3, 'Charlie'),\n",
        "    (4, 'David')\n",
        "]\n",
        "\n",
        "science_students_data = [\n",
        "    (2, 'Bob'),\n",
        "    (3, 'Charlie'),\n",
        "    (5, 'Eva')\n",
        "]"
      ],
      "metadata": {
        "id": "TyQQCZS5DDHj"
      },
      "execution_count": null,
      "outputs": []
    },
    {
      "cell_type": "code",
      "source": [
        "cursor.executemany('INSERT INTO students VALUES (?, ?)', students_data)\n",
        "cursor.executemany('INSERT INTO science_students VALUES (?, ?)', science_students_data)"
      ],
      "metadata": {
        "colab": {
          "base_uri": "https://localhost:8080/"
        },
        "id": "XBH9ydn9DVQU",
        "outputId": "9a3a6903-ad0e-4861-a9cb-6197f8586f36"
      },
      "execution_count": null,
      "outputs": [
        {
          "output_type": "execute_result",
          "data": {
            "text/plain": [
              "<sqlite3.Cursor at 0x7c7386955e40>"
            ]
          },
          "metadata": {},
          "execution_count": 30
        }
      ]
    },
    {
      "cell_type": "code",
      "source": [
        "## Display database after creation\n",
        "# Getting all tables from sqlite_master\n",
        "sql_query = \"\"\"SELECT name FROM sqlite_master\n",
        "    WHERE type='table';\"\"\"\n",
        "\n",
        "cursor.execute(sql_query)\n",
        "print(cursor.fetchall())"
      ],
      "metadata": {
        "colab": {
          "base_uri": "https://localhost:8080/"
        },
        "id": "ywpNN_jxDGms",
        "outputId": "133bce6f-2414-4e0b-a524-50bbe3b3887d"
      },
      "execution_count": null,
      "outputs": [
        {
          "output_type": "stream",
          "name": "stdout",
          "text": [
            "[('students',), ('science_students',)]\n"
          ]
        }
      ]
    },
    {
      "cell_type": "code",
      "source": [
        "print(pd.read_sql_query(\"\"\"SELECT name FROM sqlite_master\n",
        "    WHERE type='table';\"\"\", conn))"
      ],
      "metadata": {
        "colab": {
          "base_uri": "https://localhost:8080/"
        },
        "id": "urOM-GiBDJgO",
        "outputId": "c04f1b50-e1f3-46aa-9fd3-d914dec67583"
      },
      "execution_count": null,
      "outputs": [
        {
          "output_type": "stream",
          "name": "stdout",
          "text": [
            "               name\n",
            "0          students\n",
            "1  science_students\n"
          ]
        }
      ]
    },
    {
      "cell_type": "code",
      "source": [
        "print(pd.read_sql_query('SELECT * FROM students', conn))"
      ],
      "metadata": {
        "colab": {
          "base_uri": "https://localhost:8080/"
        },
        "id": "RCJTlhWzDLBI",
        "outputId": "944af11f-c4b5-4158-c080-b13bc9af8823"
      },
      "execution_count": null,
      "outputs": [
        {
          "output_type": "stream",
          "name": "stdout",
          "text": [
            "   id     name\n",
            "0   1    Alice\n",
            "1   2      Bob\n",
            "2   3  Charlie\n",
            "3   4    David\n"
          ]
        }
      ]
    },
    {
      "cell_type": "code",
      "source": [
        "print(pd.read_sql_query('SELECT * FROM science_students', conn))"
      ],
      "metadata": {
        "colab": {
          "base_uri": "https://localhost:8080/"
        },
        "id": "v87TrkJXDM-E",
        "outputId": "314ae48c-f0d7-444d-a833-be3d8c7b083f"
      },
      "execution_count": null,
      "outputs": [
        {
          "output_type": "stream",
          "name": "stdout",
          "text": [
            "   id     name\n",
            "0   2      Bob\n",
            "1   3  Charlie\n",
            "2   5      Eva\n"
          ]
        }
      ]
    },
    {
      "cell_type": "code",
      "source": [
        "conn.close()"
      ],
      "metadata": {
        "id": "j3zvdKcCTKag"
      },
      "execution_count": null,
      "outputs": []
    },
    {
      "cell_type": "markdown",
      "source": [
        "# HOMEWORK I"
      ],
      "metadata": {
        "id": "oFjOxWSPG_fv"
      }
    },
    {
      "cell_type": "code",
      "source": [
        "import sqlite3\n",
        "import pandas as pd\n",
        "# Connect to SQLite (in-memory database for simplicity)\n",
        "## Connecting to an SQLite in-memory database means creating a temporary database\n",
        "## that resides in RAM rather than on disk. It’s commonly used for testing\n",
        "\n",
        "conn = sqlite3.connect('exercise.db')\n",
        "cursor = conn.cursor()"
      ],
      "metadata": {
        "id": "Cee4udkzHIgO"
      },
      "execution_count": null,
      "outputs": []
    },
    {
      "cell_type": "code",
      "source": [
        "## Creating the Students Table with Specified Columns\n",
        "cursor.execute('''\n",
        "CREATE TABLE IF NOT EXISTS students (\n",
        "    id INTEGER PRIMARY KEY AUTOINCREMENT,\n",
        "    name TEXT NOT NULL,\n",
        "    age INTEGER,\n",
        "    grade TEXT NOT NULL,\n",
        "    email TEXT UNIQUE\n",
        ")\n",
        "''')\n",
        "conn.commit()"
      ],
      "metadata": {
        "id": "9tH_wQKwRBHs"
      },
      "execution_count": null,
      "outputs": []
    },
    {
      "cell_type": "code",
      "source": [
        "## Sample Student Records to Insert\n",
        "students_data = [\n",
        "    ('Meet', 19, 'A', 'starkmeet@gmail.com'),\n",
        "    ('Dhruvil', 21, 'A', 'dhruvilsinhrathod24@gmail.com'),\n",
        "    ('Krishna', 20, 'B', 'krishnabutani7@gmail.com'),\n",
        "    ('Hil', 19, 'C', 'hilpatel190@gmail.com'),\n",
        "    ('MeetKumar', 20, 'B', 'meetprajapati2705@gmail.com')\n",
        "]\n",
        "\n",
        "# Inserting Data into the Students Table\n",
        "cursor.executemany('INSERT OR IGNORE INTO students (name, age, grade, email) VALUES (?, ?, ?, ?)', students_data)\n",
        "conn.commit()\n",
        "\n"
      ],
      "metadata": {
        "id": "xWK9lP6WROCo"
      },
      "execution_count": null,
      "outputs": []
    },
    {
      "cell_type": "code",
      "source": [
        "## Retriving All Records from the Students Table\n",
        "cursor.execute('SELECT * FROM students')\n",
        "students_records = cursor.fetchall()\n",
        "\n",
        "## Print Each Record\n",
        "for record in students_records:\n",
        "    print(record)"
      ],
      "metadata": {
        "colab": {
          "base_uri": "https://localhost:8080/"
        },
        "id": "wFPfzB7HSFBO",
        "outputId": "9a6eafa4-58dc-4047-c102-ad1f303f3d18"
      },
      "execution_count": null,
      "outputs": [
        {
          "output_type": "stream",
          "name": "stdout",
          "text": [
            "(1, 'Meet', 19, 'A', 'starkmeet@gmail.com')\n",
            "(2, 'Dhruvil', 21, 'A', 'dhruvilsinhrathod24@gmail.com')\n",
            "(3, 'Krishna', 20, 'B', 'krishnabutani7@gmail.com')\n",
            "(4, 'Hil', 19, 'C', 'hilpatel190@gmail.com')\n",
            "(5, 'MeetKumar', 20, 'B', 'meetprajapati2705@gmail.com')\n"
          ]
        }
      ]
    },
    {
      "cell_type": "code",
      "source": [
        "## Displaying data in a tabular format using pandas\n",
        "df = pd.DataFrame(students_records, columns=['ID', 'Name', 'Age', 'Grade', 'Email'])\n",
        "print(df)"
      ],
      "metadata": {
        "colab": {
          "base_uri": "https://localhost:8080/"
        },
        "id": "lZBxEBw9SYB7",
        "outputId": "022da2d1-d8fd-4df3-cf4f-c260cc4a70cf"
      },
      "execution_count": null,
      "outputs": [
        {
          "output_type": "stream",
          "name": "stdout",
          "text": [
            "   ID       Name  Age Grade                          Email\n",
            "0   1       Meet   19     A            starkmeet@gmail.com\n",
            "1   2    Dhruvil   21     A  dhruvilsinhrathod24@gmail.com\n",
            "2   3    Krishna   20     B       krishnabutani7@gmail.com\n",
            "3   4        Hil   19     C          hilpatel190@gmail.com\n",
            "4   5  MeetKumar   20     B    meetprajapati2705@gmail.com\n"
          ]
        }
      ]
    },
    {
      "cell_type": "code",
      "source": [
        "# Connect to the database\n",
        "conn = sqlite3.connect('exercise.db')\n",
        "cursor = conn.cursor()\n",
        "\n",
        "# Drop the students table if it exists\n",
        "cursor.execute(\"DROP TABLE IF EXISTS students\")\n",
        "\n",
        "# Commit and close connection\n",
        "conn.commit()\n",
        "conn.close()\n",
        "\n",
        "print(\"The 'students' table has been dropped.\")\n"
      ],
      "metadata": {
        "colab": {
          "base_uri": "https://localhost:8080/"
        },
        "id": "1ilJyQtSixrZ",
        "outputId": "6193ff70-7df0-416c-af9c-ad2207093f26"
      },
      "execution_count": null,
      "outputs": [
        {
          "output_type": "stream",
          "name": "stdout",
          "text": [
            "The 'students' table has been dropped.\n"
          ]
        }
      ]
    },
    {
      "cell_type": "code",
      "source": [
        "## Closing the Database Connection\n",
        "conn.close()"
      ],
      "metadata": {
        "id": "GdqxoP-mSoYJ"
      },
      "execution_count": null,
      "outputs": []
    },
    {
      "cell_type": "markdown",
      "source": [
        "# CLASSWORK II\n"
      ],
      "metadata": {
        "id": "DXIl3UGr50Pr"
      }
    },
    {
      "cell_type": "code",
      "source": [
        "import sqlite3\n",
        "import pandas as pd\n",
        "## Connect to SQLite (in-memory database for simplicity)\n",
        "## Connecting to an SQLite in-memory database means creating a temporary database\n",
        "## that resides in RAM rather than on disk. It’s commonly used for testing\n",
        "\n",
        "conn = sqlite3.connect(':memory:')\n",
        "cursor = conn.cursor()"
      ],
      "metadata": {
        "id": "pEuj1vp559bv"
      },
      "execution_count": null,
      "outputs": []
    },
    {
      "cell_type": "code",
      "source": [
        "# Create tables\n",
        "cursor.execute('''\n",
        "CREATE TABLE students (\n",
        "    id INTEGER PRIMARY KEY,\n",
        "    name TEXT\n",
        ")\n",
        "''')\n",
        "\n",
        "cursor.execute('''\n",
        "CREATE TABLE science_students (\n",
        "    id INTEGER PRIMARY KEY,\n",
        "    name TEXT\n",
        ")\n",
        "''')"
      ],
      "metadata": {
        "colab": {
          "base_uri": "https://localhost:8080/"
        },
        "id": "jsuZcdYn5-OZ",
        "outputId": "392d62a1-98b1-44a1-a514-98b3576992f6"
      },
      "execution_count": null,
      "outputs": [
        {
          "output_type": "execute_result",
          "data": {
            "text/plain": [
              "<sqlite3.Cursor at 0x78d511b8f140>"
            ]
          },
          "metadata": {},
          "execution_count": 30
        }
      ]
    },
    {
      "cell_type": "code",
      "source": [
        "# Insert sample data\n",
        "students_data = [\n",
        "    (1, 'Meet'),\n",
        "    (2, 'Bob'),\n",
        "    (3, 'Charlie'),\n",
        "    (4, 'David')\n",
        "]\n",
        "\n",
        "science_students_data = [\n",
        "    (2, 'Bob'),\n",
        "    (3, 'Charlie'),\n",
        "    (5, 'Eva')\n",
        "]"
      ],
      "metadata": {
        "id": "yvXABKFa5_wb"
      },
      "execution_count": null,
      "outputs": []
    },
    {
      "cell_type": "code",
      "source": [
        "cursor.execute(\"INSERT INTO students (id, name) VALUES (1, 'Alice')\")\n",
        "cursor.execute(\"INSERT INTO students (id, name) VALUES (2, 'Bob')\")\n",
        "cursor.execute(\"INSERT INTO students (id, name) VALUES (3, 'Charlie')\")\n",
        "cursor.execute(\"INSERT INTO students (id, name) VALUES (4, 'David')\")"
      ],
      "metadata": {
        "colab": {
          "base_uri": "https://localhost:8080/"
        },
        "id": "f4LDrraA6Bl8",
        "outputId": "d4659b0e-4fb3-430f-a685-45a2cf179af5"
      },
      "execution_count": null,
      "outputs": [
        {
          "output_type": "execute_result",
          "data": {
            "text/plain": [
              "<sqlite3.Cursor at 0x78d5112f4540>"
            ]
          },
          "metadata": {},
          "execution_count": 9
        }
      ]
    },
    {
      "cell_type": "code",
      "source": [
        "cursor.execute(\"INSERT INTO science_students (id, name) VALUES (2, 'Bob')\")\n",
        "cursor.execute(\"INSERT INTO science_students (id, name) VALUES (3, 'Charlie')\")\n",
        "cursor.execute(\"INSERT INTO science_students (id, name) VALUES (5, 'Eva')\")"
      ],
      "metadata": {
        "colab": {
          "base_uri": "https://localhost:8080/"
        },
        "id": "n-qvTB6d6DBV",
        "outputId": "27b667e3-5c4e-45b8-dae4-2070fdc380ff"
      },
      "execution_count": null,
      "outputs": [
        {
          "output_type": "execute_result",
          "data": {
            "text/plain": [
              "<sqlite3.Cursor at 0x78d5112f4540>"
            ]
          },
          "metadata": {},
          "execution_count": 10
        }
      ]
    },
    {
      "cell_type": "code",
      "source": [
        "## Display database after creation\n",
        "# Getting all tables from sqlite_master\n",
        "sql_query = \"\"\"SELECT name FROM sqlite_master\n",
        "    WHERE type='table';\"\"\"\n",
        "\n",
        "cursor.execute(sql_query)\n",
        "print(cursor.fetchall())"
      ],
      "metadata": {
        "colab": {
          "base_uri": "https://localhost:8080/"
        },
        "id": "bPYQI4Dg6FP2",
        "outputId": "d00f683c-1db1-4667-9060-c47a1632d0ba"
      },
      "execution_count": null,
      "outputs": [
        {
          "output_type": "stream",
          "name": "stdout",
          "text": [
            "[('students',), ('science_students',)]\n"
          ]
        }
      ]
    },
    {
      "cell_type": "code",
      "source": [
        "print(pd.read_sql_query(\"\"\"SELECT name FROM sqlite_master\n",
        "    WHERE type='table';\"\"\", conn))"
      ],
      "metadata": {
        "colab": {
          "base_uri": "https://localhost:8080/"
        },
        "id": "mKhkR8CY6H8f",
        "outputId": "8d1c7d4d-b42d-4122-8890-1c18232a7af5"
      },
      "execution_count": null,
      "outputs": [
        {
          "output_type": "stream",
          "name": "stdout",
          "text": [
            "               name\n",
            "0          students\n",
            "1  science_students\n"
          ]
        }
      ]
    },
    {
      "cell_type": "code",
      "source": [
        "print(pd.read_sql_query('SELECT * FROM students', conn))"
      ],
      "metadata": {
        "colab": {
          "base_uri": "https://localhost:8080/"
        },
        "id": "A20lgQsr6Jw6",
        "outputId": "f76bf9e5-3a48-4039-ae4f-2715af1f2ae6"
      },
      "execution_count": null,
      "outputs": [
        {
          "output_type": "stream",
          "name": "stdout",
          "text": [
            "   id     name\n",
            "0   1    Alice\n",
            "1   2      Bob\n",
            "2   3  Charlie\n",
            "3   4    David\n"
          ]
        }
      ]
    },
    {
      "cell_type": "code",
      "source": [
        "print(pd.read_sql_query('SELECT * FROM science_students', conn))"
      ],
      "metadata": {
        "colab": {
          "base_uri": "https://localhost:8080/"
        },
        "id": "JBaR0_oy6K6i",
        "outputId": "1e5dd23c-d379-4903-8968-9a7492c528c9"
      },
      "execution_count": null,
      "outputs": [
        {
          "output_type": "stream",
          "name": "stdout",
          "text": [
            "   id     name\n",
            "0   2      Bob\n",
            "1   3  Charlie\n",
            "2   5      Eva\n"
          ]
        }
      ]
    },
    {
      "cell_type": "code",
      "source": [
        "# 2. UNION operation (combine students and science_students without duplicates)\n",
        "cursor.execute('SELECT name FROM students UNION SELECT name FROM science_students')\n",
        "print(\"\\nUNION operation - All unique students:\")\n",
        "print(cursor.fetchall())"
      ],
      "metadata": {
        "colab": {
          "base_uri": "https://localhost:8080/"
        },
        "id": "-LbNYSq_6MEO",
        "outputId": "73fc2b97-e89e-4bf7-afd1-85e1c932b02a"
      },
      "execution_count": null,
      "outputs": [
        {
          "output_type": "stream",
          "name": "stdout",
          "text": [
            "\n",
            "UNION operation - All unique students:\n",
            "[('Alice',), ('Bob',), ('Charlie',), ('David',), ('Eva',)]\n"
          ]
        }
      ]
    },
    {
      "cell_type": "code",
      "source": [
        "# 3. Intersection operation\n",
        "cursor.execute('SELECT name FROM students INTERSECT SELECT name FROM science_students')\n",
        "print(\"\\nIntersect operation - common students:\")\n",
        "print(cursor.fetchall())"
      ],
      "metadata": {
        "colab": {
          "base_uri": "https://localhost:8080/"
        },
        "id": "nRFaiDPf6Ozr",
        "outputId": "e317252d-1a7c-440f-e840-d23cf9248e17"
      },
      "execution_count": null,
      "outputs": [
        {
          "output_type": "stream",
          "name": "stdout",
          "text": [
            "\n",
            "Intersect operation - common students:\n",
            "[('Bob',), ('Charlie',)]\n"
          ]
        }
      ]
    },
    {
      "cell_type": "code",
      "source": [
        "# 4. EXCEPT operation (students in students but not in science_students)\n",
        "cursor.execute('SELECT name FROM students EXCEPT SELECT name FROM science_students')\n",
        "print(\"\\nEXCEPT operation - Students not in science_students:\")\n",
        "print(cursor.fetchall())"
      ],
      "metadata": {
        "colab": {
          "base_uri": "https://localhost:8080/"
        },
        "id": "0QQbj2Y86Q7Q",
        "outputId": "3d6cd4b3-bb36-4c87-a30e-bc9c78fb0f36"
      },
      "execution_count": null,
      "outputs": [
        {
          "output_type": "stream",
          "name": "stdout",
          "text": [
            "\n",
            "EXCEPT operation - Students not in science_students:\n",
            "[('Alice',), ('David',)]\n"
          ]
        }
      ]
    },
    {
      "cell_type": "code",
      "source": [
        "import sqlite3\n",
        "import pandas as pd\n",
        "\n",
        "conn = sqlite3.connect(':memory:')\n",
        "cursor = conn.cursor()\n",
        "\n",
        "cursor.execute('create table stu (ID, Name, ShoeSize, Course, IQ )')\n",
        "conn.commit()\n",
        "\n",
        "cursor.execute(\"INSERT INTO stu (ID, Name, ShoeSize, Course, IQ) VALUES (1234567890, 'John Smith', 38, 'Physics', 46)\")\n",
        "cursor.execute(\"INSERT INTO stu (ID, Name, ShoeSize, Course, IQ) VALUES (1234567891, 'Jim Morrison', 41, 'Chemistry', 56)\")\n",
        "cursor.execute(\"INSERT INTO stu (ID, Name, ShoeSize, Course, IQ) VALUES (1234567892, 'Leonel Messi', 40, 'Maths', 64)\")\n",
        "cursor.execute(\"INSERT INTO stu (ID, Name, ShoeSize, Course, IQ) VALUES (1234567893, 'Alan Donald', 37, 'Biology', 70)\")\n",
        "cursor.execute(\"INSERT INTO stu (ID, Name, ShoeSize, Course, IQ) VALUES  (1234567894, 'David Gill', 46, 'Computer', 81)\")\n",
        "\n",
        "conn.commit()\n",
        "\n",
        "# Display table contents using Pandas\n",
        "print(pd.read_sql_query(\"SELECT * FROM stu\", conn))"
      ],
      "metadata": {
        "colab": {
          "base_uri": "https://localhost:8080/"
        },
        "id": "NkRkIaPH6SzU",
        "outputId": "700475d3-ceab-43af-dddf-8dcb48359e39"
      },
      "execution_count": null,
      "outputs": [
        {
          "output_type": "stream",
          "name": "stdout",
          "text": [
            "           ID          Name  ShoeSize     Course  IQ\n",
            "0  1234567890    John Smith        38    Physics  46\n",
            "1  1234567891  Jim Morrison        41  Chemistry  56\n",
            "2  1234567892  Leonel Messi        40      Maths  64\n",
            "3  1234567893   Alan Donald        37    Biology  70\n",
            "4  1234567894    David Gill        46   Computer  81\n"
          ]
        }
      ]
    },
    {
      "cell_type": "code",
      "source": [
        "conn.execute(\"DELETE from stu where IQ=56\")\n",
        "\n",
        "# display row by row\n",
        "print(pd.read_sql_query('SELECT * FROM stu', conn))"
      ],
      "metadata": {
        "colab": {
          "base_uri": "https://localhost:8080/"
        },
        "id": "cJQMM2f86W5g",
        "outputId": "0d76d930-267d-4267-b28a-3d8bfdbf5d05"
      },
      "execution_count": null,
      "outputs": [
        {
          "output_type": "stream",
          "name": "stdout",
          "text": [
            "           ID          Name  ShoeSize    Course  IQ\n",
            "0  1234567890    John Smith        38   Physics  46\n",
            "1  1234567892  Leonel Messi        40     Maths  64\n",
            "2  1234567893   Alan Donald        37   Biology  70\n",
            "3  1234567894    David Gill        46  Computer  81\n"
          ]
        }
      ]
    },
    {
      "cell_type": "code",
      "source": [
        "conn.execute('''\n",
        "UPDATE stu\n",
        "SET IQ = 100\n",
        "WHERE name = 'David Gill'\n",
        "''')"
      ],
      "metadata": {
        "colab": {
          "base_uri": "https://localhost:8080/"
        },
        "id": "YizChlrx6Yqo",
        "outputId": "b0e91d76-27f9-4a55-fc9e-077b617c65c0"
      },
      "execution_count": null,
      "outputs": [
        {
          "output_type": "execute_result",
          "data": {
            "text/plain": [
              "<sqlite3.Cursor at 0x78d5112f4340>"
            ]
          },
          "metadata": {},
          "execution_count": 20
        }
      ]
    },
    {
      "cell_type": "code",
      "source": [
        "print(pd.read_sql_query('SELECT * FROM stu', conn))"
      ],
      "metadata": {
        "colab": {
          "base_uri": "https://localhost:8080/"
        },
        "id": "BowBJPJr6Z_4",
        "outputId": "ead0101c-52c4-47a4-9cb6-3e998caaefbd"
      },
      "execution_count": null,
      "outputs": [
        {
          "output_type": "stream",
          "name": "stdout",
          "text": [
            "           ID          Name  ShoeSize    Course   IQ\n",
            "0  1234567890    John Smith        38   Physics   46\n",
            "1  1234567892  Leonel Messi        40     Maths   64\n",
            "2  1234567893   Alan Donald        37   Biology   70\n",
            "3  1234567894    David Gill        46  Computer  100\n"
          ]
        }
      ]
    },
    {
      "cell_type": "code",
      "source": [
        "renameTable = \"ALTER TABLE stu RENAME TO PGEStudents\"\n",
        "conn.execute(renameTable)"
      ],
      "metadata": {
        "colab": {
          "base_uri": "https://localhost:8080/"
        },
        "id": "dEPo3d4C6bwl",
        "outputId": "2730f75c-de64-4169-c2bb-29afc76bf3a7"
      },
      "execution_count": null,
      "outputs": [
        {
          "output_type": "execute_result",
          "data": {
            "text/plain": [
              "<sqlite3.Cursor at 0x78d5112f5940>"
            ]
          },
          "metadata": {},
          "execution_count": 22
        }
      ]
    },
    {
      "cell_type": "code",
      "source": [
        "print(pd.read_sql_query(\"\"\"SELECT name FROM sqlite_master\n",
        "    WHERE type='table';\"\"\", conn))"
      ],
      "metadata": {
        "colab": {
          "base_uri": "https://localhost:8080/"
        },
        "id": "HyWc25Lx6dUu",
        "outputId": "9c185914-4154-47b5-94fa-bcf0bd729817"
      },
      "execution_count": null,
      "outputs": [
        {
          "output_type": "stream",
          "name": "stdout",
          "text": [
            "          name\n",
            "0  PGEStudents\n"
          ]
        }
      ]
    },
    {
      "cell_type": "markdown",
      "source": [
        "# CLASSWORK III\n"
      ],
      "metadata": {
        "id": "c7j18K0lz6Wz"
      }
    },
    {
      "cell_type": "code",
      "source": [
        "import sqlite3\n",
        "\n",
        "# Connect to the SQLite database (or create it if it doesn't exist)\n",
        "conn = sqlite3.connect(\":memory:\")\n",
        "cursor = conn.cursor()\n",
        "\n",
        "# Create the employees table\n",
        "cursor.execute('''\n",
        "    CREATE TABLE IF NOT EXISTS employees (\n",
        "        id INTEGER PRIMARY KEY,\n",
        "        name TEXT,\n",
        "        department TEXT,\n",
        "        salary REAL\n",
        "    )\n",
        "''')\n",
        "\n",
        "cursor.execute(\"INSERT INTO employees (name, department, salary) VALUES ('Meet Stark', 'Sales', 90000)\")\n",
        "cursor.execute(\"INSERT INTO employees (name, department, salary) VALUES ('Dev Godhani', 'IT', 75000)\")\n",
        "cursor.execute(\"INSERT INTO employees (name, department, salary) VALUES ('Mike Brown', 'HR', 90000)\")\n",
        "cursor.execute(\"INSERT INTO employees (name, department, salary) VALUES ('Emily White', 'Sales', 800000)\")\n",
        "cursor.execute(\"INSERT INTO employees (name, department, salary) VALUES ('Chris Green', 'Finance', 850000)\")\n",
        "\n",
        "# Commit the transaction\n",
        "conn.commit()"
      ],
      "metadata": {
        "id": "Z_M8Z4mC5EIG"
      },
      "execution_count": null,
      "outputs": []
    },
    {
      "cell_type": "code",
      "source": [
        "import pandas as pd\n",
        "print(pd.read_sql_query(\"SELECT * FROM employees\", conn))"
      ],
      "metadata": {
        "colab": {
          "base_uri": "https://localhost:8080/"
        },
        "id": "CEV1se-W5HJF",
        "outputId": "67c5c026-59de-4425-f270-692e6ae0957a"
      },
      "execution_count": null,
      "outputs": [
        {
          "output_type": "stream",
          "name": "stdout",
          "text": [
            "   id         name department    salary\n",
            "0   1   Meet Stark      Sales  900000.0\n",
            "1   2  Dev Godhani         IT  750000.0\n",
            "2   3   Mike Brown         HR   90000.0\n",
            "3   4  Emily White      Sales  800000.0\n",
            "4   5  Chris Green    Finance  850000.0\n"
          ]
        }
      ]
    },
    {
      "cell_type": "code",
      "source": [
        "import sqlite3\n",
        "\n",
        "# Connect to the SQLite database (or create it if it doesn't exist)\n",
        "conn = sqlite3.connect(\":memory:\")  # Using in-memory database for demonstration\n",
        "cursor = conn.cursor()\n",
        "\n",
        "# Create Employees table\n",
        "cursor.execute(\"\"\"\n",
        "CREATE TABLE Employees (\n",
        "    EmployeeID INTEGER PRIMARY KEY,\n",
        "    Name TEXT,\n",
        "    DepartmentID INTEGER,\n",
        "    Salary INTEGER\n",
        ")\n",
        "\"\"\")\n",
        "\n",
        "# Create Departments table\n",
        "cursor.execute(\"\"\"\n",
        "CREATE TABLE Departments (\n",
        "    DepartmentID INTEGER PRIMARY KEY,\n",
        "    DepartmentName TEXT\n",
        ")\n",
        "\"\"\")\n",
        "\n",
        "# Insert sample data into Employees\n",
        "\n",
        "cursor.execute(\"INSERT INTO Employees (EmployeeID, Name, DepartmentID, Salary) VALUES (1, 'John', 1, 50000)\")\n",
        "cursor.execute(\"INSERT INTO Employees (EmployeeID, Name, DepartmentID, Salary) VALUES (2, 'Sarah', 2, 60000)\")\n",
        "cursor.execute(\"INSERT INTO Employees (EmployeeID, Name, DepartmentID, Salary) VALUES (3, 'Michael', 1, 80000)\")\n",
        "cursor.execute(\"INSERT INTO Employees (EmployeeID, Name, DepartmentID, Salary) VALUES (4, 'Lisa', 3, 55000)\")\n",
        "cursor.execute(\"INSERT INTO Employees (EmployeeID, Name, DepartmentID, Salary) VALUES (5, 'Daniel', 1, 70000)\")\n",
        "\n",
        "# Insert sample data into Departments\n",
        "\n",
        "cursor.execute(\"INSERT INTO Departments (DepartmentID, DepartmentName) VALUES (1, 'IT')\")\n",
        "cursor.execute(\"INSERT INTO Departments (DepartmentID, DepartmentName) VALUES (2, 'HR')\")\n",
        "cursor.execute(\"INSERT INTO Departments (DepartmentID, DepartmentName) VALUES (3, 'Finance')\")\n",
        "\n",
        "# Commit the changes\n",
        "conn.commit()"
      ],
      "metadata": {
        "id": "NACCUaRE5KKp"
      },
      "execution_count": null,
      "outputs": []
    },
    {
      "cell_type": "code",
      "source": [
        "print(pd.read_sql_query(\"SELECT * FROM Employees\", conn))"
      ],
      "metadata": {
        "colab": {
          "base_uri": "https://localhost:8080/"
        },
        "id": "wTXJ2vyN5NKc",
        "outputId": "36ff9b16-de11-4fb9-bf6b-b7e41dd8ac99"
      },
      "execution_count": null,
      "outputs": [
        {
          "output_type": "stream",
          "name": "stdout",
          "text": [
            "   EmployeeID     Name  DepartmentID  Salary\n",
            "0           1     John             1   50000\n",
            "1           2    Sarah             2   60000\n",
            "2           3  Michael             1   80000\n",
            "3           4     Lisa             3   55000\n",
            "4           5   Daniel             1   70000\n"
          ]
        }
      ]
    },
    {
      "cell_type": "code",
      "source": [
        "print(pd.read_sql_query(\"SELECT * FROM Departments\", conn))"
      ],
      "metadata": {
        "colab": {
          "base_uri": "https://localhost:8080/"
        },
        "id": "Ce34kE6q5OlQ",
        "outputId": "fa24cc04-9e3f-4a06-8d5b-0632f9aaf73f"
      },
      "execution_count": null,
      "outputs": [
        {
          "output_type": "stream",
          "name": "stdout",
          "text": [
            "   DepartmentID DepartmentName\n",
            "0             1             IT\n",
            "1             2             HR\n",
            "2             3        Finance\n"
          ]
        }
      ]
    }
  ]
}